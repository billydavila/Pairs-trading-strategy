{
 "cells": [
  {
   "cell_type": "markdown",
   "metadata": {},
   "source": [
    "# Pairs Trading Strategy \n",
    "In this notebook, we will create a pairs trading strategy using two commodities(Lead and Aluminium) future data from April 2014 to July 2016.  "
   ]
  },
  {
   "cell_type": "markdown",
   "metadata": {},
   "source": [
    "### Trading Strategy based on Pairs trading"
   ]
  },
  {
   "cell_type": "markdown",
   "metadata": {},
   "source": [
    "* We know that arbitrage in comodities can be found by three instances: cash and carry, future calendar spread, and inter-commodity arbitrage. Our focus will be inter-commodity arbitrage. \n",
    "* By considering different commodities on the same exchange having same cash flow or in the same category, there is a possibility for creating an inter-commodity arbitrage. One example could be the pair comodity Lead and Aluminium.\n",
    "* The strategy suggests to take positions against the general norms of the market, short the overperforming asset, go long the underperforming one.\n",
    "* The idea is that cointegrated assets are mean-reverting in nature. So the underperformance asset that we bought is expected to rise meanwhile the one sold is expected to fall back to its mean.\n",
    "* Cointegrated assets are found when the spread of the portfolio is stationary. Nonetheless, not any arbitrary combination of the portfolio instruments will be stationary. Only some combinations of the instruments are stationary and hence the instruments cointegrated.\n",
    "* To find a linear combination, we use a Linear Regression and check if the spread is stationary by using the augmented dicker-fuller test. \n",
    "* The lookback period chose was 90 days to avoid the look-ahead bias. \n",
    "* We used a threshold and z-score (how many std away is the variable from the mean) to decide when to enter a position. \n",
    "* We used Stop loss, take profit  and cointegration Break to exit the position. "
   ]
  },
  {
   "cell_type": "markdown",
   "metadata": {},
   "source": [
    "## Library imported"
   ]
  },
  {
   "cell_type": "code",
   "execution_count": 1,
   "metadata": {},
   "outputs": [],
   "source": [
    "import warnings\n",
    "\n",
    "warnings.filterwarnings(\"ignore\")\n",
    "\n",
    "import numpy as np\n",
    "import pandas as pd\n",
    "\n",
    "import matplotlib.pyplot as plt\n",
    "\n",
    "import statsmodels.api as stat\n",
    "import statsmodels.tsa.stattools as ts\n",
    "\n",
    "import pyexcel\n",
    "import pyfolio \n",
    "\n",
    "import quandl  # was first used to get the futures commodities data\n",
    "\n",
    "from tabulate import tabulate"
   ]
  },
  {
   "cell_type": "markdown",
   "metadata": {},
   "source": [
    "## Import the data\n",
    "We gathered futures commodities (Aluminum and Lead) data from quandl which later on the data was stored on csv files. "
   ]
  },
  {
   "cell_type": "code",
   "execution_count": 2,
   "metadata": {},
   "outputs": [],
   "source": [
    "aluminium_prices = pd.read_csv( \"MCX_data_Aluminium_April_2014_to_July_2016.csv\", index_col = [0] )\n",
    "aluminium_prices.index = pd.to_datetime(aluminium_prices.index)\n",
    "\n",
    "lead_prices = pd.read_csv( \"MCX_data_Lead_April_2014_to_July_2016\", index_col = [0] )\n",
    "\n",
    "lead_prices.index = pd.to_datetime( lead_prices.index)"
   ]
  },
  {
   "cell_type": "markdown",
   "metadata": {},
   "source": [
    "## Clean the data and ensure we only have data for common dates only"
   ]
  },
  {
   "cell_type": "code",
   "execution_count": 3,
   "metadata": {},
   "outputs": [
    {
     "data": {
      "text/html": [
       "<div>\n",
       "<style scoped>\n",
       "    .dataframe tbody tr th:only-of-type {\n",
       "        vertical-align: middle;\n",
       "    }\n",
       "\n",
       "    .dataframe tbody tr th {\n",
       "        vertical-align: top;\n",
       "    }\n",
       "\n",
       "    .dataframe thead th {\n",
       "        text-align: right;\n",
       "    }\n",
       "</style>\n",
       "<table border=\"1\" class=\"dataframe\">\n",
       "  <thead>\n",
       "    <tr style=\"text-align: right;\">\n",
       "      <th></th>\n",
       "      <th>Open_x</th>\n",
       "      <th>High_x</th>\n",
       "      <th>Low_x</th>\n",
       "      <th>Close_x</th>\n",
       "      <th>Volume_x</th>\n",
       "      <th>Open Interest_x</th>\n",
       "      <th>key</th>\n",
       "      <th>Open_y</th>\n",
       "      <th>High_y</th>\n",
       "      <th>Low_y</th>\n",
       "      <th>Close_y</th>\n",
       "      <th>Volume_y</th>\n",
       "      <th>Open Interest_y</th>\n",
       "    </tr>\n",
       "    <tr>\n",
       "      <th>Date</th>\n",
       "      <th></th>\n",
       "      <th></th>\n",
       "      <th></th>\n",
       "      <th></th>\n",
       "      <th></th>\n",
       "      <th></th>\n",
       "      <th></th>\n",
       "      <th></th>\n",
       "      <th></th>\n",
       "      <th></th>\n",
       "      <th></th>\n",
       "      <th></th>\n",
       "      <th></th>\n",
       "    </tr>\n",
       "  </thead>\n",
       "  <tbody>\n",
       "    <tr>\n",
       "      <th>2014-04-01</th>\n",
       "      <td>106.00</td>\n",
       "      <td>106.70</td>\n",
       "      <td>105.65</td>\n",
       "      <td>106.25</td>\n",
       "      <td>5022.0</td>\n",
       "      <td>2282.0</td>\n",
       "      <td>2014-04-01</td>\n",
       "      <td>124.25</td>\n",
       "      <td>124.25</td>\n",
       "      <td>122.35</td>\n",
       "      <td>124.40</td>\n",
       "      <td>8458.0</td>\n",
       "      <td>2528.0</td>\n",
       "    </tr>\n",
       "    <tr>\n",
       "      <th>2014-04-02</th>\n",
       "      <td>106.00</td>\n",
       "      <td>108.45</td>\n",
       "      <td>105.90</td>\n",
       "      <td>106.35</td>\n",
       "      <td>8147.0</td>\n",
       "      <td>3343.0</td>\n",
       "      <td>2014-04-02</td>\n",
       "      <td>122.50</td>\n",
       "      <td>123.70</td>\n",
       "      <td>122.10</td>\n",
       "      <td>122.45</td>\n",
       "      <td>9275.0</td>\n",
       "      <td>2559.0</td>\n",
       "    </tr>\n",
       "    <tr>\n",
       "      <th>2014-04-03</th>\n",
       "      <td>108.15</td>\n",
       "      <td>110.10</td>\n",
       "      <td>108.00</td>\n",
       "      <td>108.40</td>\n",
       "      <td>7821.0</td>\n",
       "      <td>3384.0</td>\n",
       "      <td>2014-04-03</td>\n",
       "      <td>123.00</td>\n",
       "      <td>124.30</td>\n",
       "      <td>122.45</td>\n",
       "      <td>123.00</td>\n",
       "      <td>10047.0</td>\n",
       "      <td>2424.0</td>\n",
       "    </tr>\n",
       "    <tr>\n",
       "      <th>2014-04-04</th>\n",
       "      <td>109.60</td>\n",
       "      <td>110.35</td>\n",
       "      <td>108.05</td>\n",
       "      <td>109.60</td>\n",
       "      <td>6639.0</td>\n",
       "      <td>3144.0</td>\n",
       "      <td>2014-04-04</td>\n",
       "      <td>124.30</td>\n",
       "      <td>124.75</td>\n",
       "      <td>123.00</td>\n",
       "      <td>124.20</td>\n",
       "      <td>9162.0</td>\n",
       "      <td>2734.0</td>\n",
       "    </tr>\n",
       "    <tr>\n",
       "      <th>2014-04-07</th>\n",
       "      <td>108.00</td>\n",
       "      <td>109.90</td>\n",
       "      <td>107.80</td>\n",
       "      <td>108.00</td>\n",
       "      <td>6874.0</td>\n",
       "      <td>3208.0</td>\n",
       "      <td>2014-04-07</td>\n",
       "      <td>123.30</td>\n",
       "      <td>124.25</td>\n",
       "      <td>123.00</td>\n",
       "      <td>123.35</td>\n",
       "      <td>8829.0</td>\n",
       "      <td>2752.0</td>\n",
       "    </tr>\n",
       "  </tbody>\n",
       "</table>\n",
       "</div>"
      ],
      "text/plain": [
       "            Open_x  High_x   Low_x  Close_x  Volume_x  Open Interest_x  \\\n",
       "Date                                                                     \n",
       "2014-04-01  106.00  106.70  105.65   106.25    5022.0           2282.0   \n",
       "2014-04-02  106.00  108.45  105.90   106.35    8147.0           3343.0   \n",
       "2014-04-03  108.15  110.10  108.00   108.40    7821.0           3384.0   \n",
       "2014-04-04  109.60  110.35  108.05   109.60    6639.0           3144.0   \n",
       "2014-04-07  108.00  109.90  107.80   108.00    6874.0           3208.0   \n",
       "\n",
       "                  key  Open_y  High_y   Low_y  Close_y  Volume_y  \\\n",
       "Date                                                               \n",
       "2014-04-01 2014-04-01  124.25  124.25  122.35   124.40    8458.0   \n",
       "2014-04-02 2014-04-02  122.50  123.70  122.10   122.45    9275.0   \n",
       "2014-04-03 2014-04-03  123.00  124.30  122.45   123.00   10047.0   \n",
       "2014-04-04 2014-04-04  124.30  124.75  123.00   124.20    9162.0   \n",
       "2014-04-07 2014-04-07  123.30  124.25  123.00   123.35    8829.0   \n",
       "\n",
       "            Open Interest_y  \n",
       "Date                         \n",
       "2014-04-01           2528.0  \n",
       "2014-04-02           2559.0  \n",
       "2014-04-03           2424.0  \n",
       "2014-04-04           2734.0  \n",
       "2014-04-07           2752.0  "
      ]
     },
     "execution_count": 3,
     "metadata": {},
     "output_type": "execute_result"
    }
   ],
   "source": [
    "# Clean the fetched data\n",
    "# remove the data where we did not have any value\n",
    "aluminium_prices = aluminium_prices.dropna()\n",
    "lead_prices = lead_prices.dropna()\n",
    "\n",
    "# a key column will be used to make the data uniform date wise\n",
    "aluminium_prices['key'] = aluminium_prices.index\n",
    "lead_prices['key'] = lead_prices.index\n",
    "\n",
    "# Merge the data so we have common dates\n",
    "result = pd.merge( aluminium_prices, lead_prices, on ='key', left_index = True, right_index = True)\n",
    "result.head()"
   ]
  },
  {
   "cell_type": "code",
   "execution_count": 4,
   "metadata": {},
   "outputs": [],
   "source": [
    "# now place the data back \n",
    "aluminium_prices = result[['Open_x', 'High_x', 'Low_x', 'Close_x', 'Volume_x']]\n",
    "lead_prices = result[ ['Open_y', 'High_y', 'Low_y', 'Close_y', 'Volume_y'] ]\n",
    "\n",
    "# set the columns as they where before\n",
    "aluminium_prices.columns = ['Open', 'High', 'Low','Close','Volume']\n",
    "lead_prices.columns = ['Open','High', 'Low', 'Close','Volume']"
   ]
  },
  {
   "cell_type": "markdown",
   "metadata": {},
   "source": [
    "### Plot Aluminium and Lead close prices"
   ]
  },
  {
   "cell_type": "code",
   "execution_count": 5,
   "metadata": {},
   "outputs": [
    {
     "data": {
      "image/png": "[encoded data removed]",
      "text/plain": [
       "<Figure size 1080x360 with 1 Axes>"
      ]
     },
     "metadata": {
      "needs_background": "light"
     },
     "output_type": "display_data"
    }
   ],
   "source": [
    "plt.figure( figsize = (15,5) )\n",
    "plt.plot( aluminium_prices['Close'], 'y', label = \"Aluminium\" )\n",
    "plt.plot( lead_prices['Close'], 'b', label = \"Lead\")\n",
    "plt.ylabel( \"Prices\" )\n",
    "plt.xlabel( \"Dates\" )\n",
    "plt.legend()\n",
    "plt.title( \"Aluminium and Lead Close Prices\" )\n",
    "plt.grid(True)\n",
    "plt.show()"
   ]
  },
  {
   "cell_type": "markdown",
   "metadata": {},
   "source": [
    "## Plot the Spread of Aluminimum and Lead Close Prices"
   ]
  },
  {
   "cell_type": "code",
   "execution_count": 6,
   "metadata": {},
   "outputs": [
    {
     "data": {
      "image/png": "[encoded data removed]",
      "text/plain": [
       "<Figure size 1080x360 with 1 Axes>"
      ]
     },
     "metadata": {
      "needs_background": "light"
     },
     "output_type": "display_data"
    }
   ],
   "source": [
    "fig, ax = plt.subplots(1, 1, figsize=(15, 5))\n",
    "\n",
    "# Plot the spread\n",
    "ax.plot(aluminium_prices.index, np.log(\n",
    "    aluminium_prices.Close.values/lead_prices.Close.values), label='Spread')\n",
    "\n",
    "plt.legend()\n",
    "plt.xlabel('Date', fontsize=12)\n",
    "plt.ylabel('Spread', fontsize=12)\n",
    "plt.title('Spread of Aluminium and Lead Close Prices', fontsize=14)\n",
    "plt.grid()\n",
    "plt.show()"
   ]
  },
  {
   "cell_type": "markdown",
   "metadata": {},
   "source": [
    "## Define helper functions for implementing the trading strategy \n",
    "Before we implement the strategy we need some helper functions"
   ]
  },
  {
   "cell_type": "markdown",
   "metadata": {},
   "source": [
    "### Cointegration test function\n",
    "We will test if the pair assets are co-integrated by checking if the spread between them is stationary. To check this condition, we will perform an Augmented Dicker-Fuller test. \n",
    "Recall that pairs trading strategy is a contrarian strategy designed to harness mean-reverting behavior of cointegrated instruments. Hence, if we get that our pair assets is NOT co-integrated, we will not have an incentive to implement the trading strategy as the pair will not be mean-reverting."
   ]
  },
  {
   "cell_type": "code",
   "execution_count": 7,
   "metadata": {},
   "outputs": [],
   "source": [
    "def cointegration_test(x,y):\n",
    "    \"\"\"\n",
    "    This function takes as inputs two dataframes x and y. \n",
    "    Runs a linear regresion on the input data Close prices to find the spread.\n",
    "    Then run an adfuller test to check if the spread is stationary so we can determine if two\n",
    "    variables are cointegrated.\n",
    "    \"\"\"\n",
    "    # First we use the OLS method to find a spread between x and y. \n",
    "    spread = stat.OLS( x['Close'], y['Close'] ).fit()\n",
    "    \n",
    "    # Then perform an ADF-test to check if the spread is stationary or not.\n",
    "    return ts.adfuller( spread.resid )"
   ]
  },
  {
   "cell_type": "markdown",
   "metadata": {},
   "source": [
    "### Define the z-score function for the spread\n",
    "We will calculate the z-score for the log price ratio of our commodity pair. The Z-scores will help us to generate trading signals. "
   ]
  },
  {
   "cell_type": "code",
   "execution_count": 8,
   "metadata": {},
   "outputs": [],
   "source": [
    "def z_score_function( data1, data2, start, end):\n",
    "    \"\"\"\n",
    "    This function takes two dataframes data1, data2 and two integers \n",
    "    start and end which represent index values. It calculates the z-score.\n",
    "    \"\"\"\n",
    "    \n",
    "    # Get the close prices from the two dataframes as a serie\n",
    "    # of the last (start -end -1) days. In our case we are going to use the\n",
    "    # last 10 days.\n",
    "    s1 = pd.Series( data1['Close'].iloc[start:end] ) # the last 10 Close prices of commodity one\n",
    "    s2 = pd.Series( data2['Close'].iloc[start:end] ) # the last 10 Close prices of commodity two\n",
    "    \n",
    "  #--------------------Now we need to calculate the necessary components for calculating the z-score--------------------\n",
    "\n",
    "    # compute the moving average of the log of price ratio for the previous 10 data points \n",
    "    moving_avg_log_price_ratio = np.mean( np.log(s1/s2)  )\n",
    "    \n",
    "    # compute the standard deviation of the log of price ratio for the same 10 data points\n",
    "    std_log_price_ratio = np.std( np.log(s1/s2)  )\n",
    "    \n",
    "    # compute the current log of price ratio of our commodity pair.\n",
    "    current_log_price_ratio = np.log( data1['Close'][end]/data2['Close'][end]  ) # which is the spread\n",
    "    \n",
    "    # Compute the z-score of the log of price ratio for our commodity pair\n",
    "    z_score = ( current_log_price_ratio - moving_avg_log_price_ratio)/ std_log_price_ratio if std_log_price_ratio > 0 \\\n",
    "                else 0 \n",
    "    \n",
    "    return z_score"
   ]
  },
  {
   "cell_type": "markdown",
   "metadata": {},
   "source": [
    "### Use the z_score function to generate trading signal \n",
    "We will generate trading signals based on the z-scores and the predefined threshold. Of course, we need to check if our \n",
    "pairs are still cointegrated. \n",
    "\n",
    "In the case our z-score is greater than the pre-defined threshold and the pair is still cointegrated, we sell the spread as we expect the spread to fall back to its mean. \n",
    "For the case our z-score is less than the pre-defined threshold and the pair is still cointegrated, we buy the spread as we expect the spread to rise back to its mean. "
   ]
  },
  {
   "cell_type": "code",
   "execution_count": 9,
   "metadata": {},
   "outputs": [],
   "source": [
    "def generate_signals(zscore, threshold, adftest): \n",
    "    '''\n",
    "    This function takes as inputs two floating points zscore and threshold and a string adftest. \n",
    "    It generates trading signals according with the threshold and the mean-reversion property. \n",
    "    '''\n",
    "    if zscore > threshold and adftest == 'Yes':\n",
    "        # Since the zscore (the number of std the spread is away from its mean) is greater than our predefined\n",
    "        # threshold and the spread is still stationary then our assumption is that the spread will fall back\n",
    "        # to the mean and therefore we sell. \n",
    "       \n",
    "        signal = \"Sell\" # For our case: means go short on Aluminium futures and go long on Lead futures.\n",
    "    \n",
    "    elif zscore < -threshold and adftest == 'Yes':\n",
    "        # Since the zscore (the number of std the spread is away from its mean) is less than our predifined \n",
    "        # threshold and the spread is still stationary then our assumption is that the spread will rise back\n",
    "        # to the mean and therefore we buy. \n",
    "    \n",
    "        signal = \"Buy\" # For our case: means go long on Aluminium futures and go short on Lead futures.\n",
    "    \n",
    "    else: # For any other cases, there is no need to trigger any trading signals as either the z-score does not \n",
    "          # exceed the threshold or the ADF test indicates an absent of cointegration.\n",
    "        signal = \"\"\n",
    "        \n",
    "    return signal"
   ]
  },
  {
   "cell_type": "markdown",
   "metadata": {},
   "source": [
    "### Update status for a trading day using following codes\n",
    "\n",
    "We know that pairs trading strategy is exposed to several risks. Statistical Arbitrage depends on the assets being cointegrated. However, if the spread does not return to its mean, then there is a chance of losses in profits. For managing this risk exposure we can set a stop loss and close our position. For reducing risk exposure, we can set a co-integration break to identify whenever the pair commodity asset stops being cointegrated and close our position. Also, we need to find when to trigger a take profit.  "
   ]
  },
  {
   "cell_type": "markdown",
   "metadata": {},
   "source": [
    "Hence, we need to define when to trigger a stop loss, take profit or co-integration break in order to close our position. \n",
    "\n",
    "In general our rules will be: \n",
    "\n",
    "    Update status for a trading day\n",
    "        1. As SL if MTM is less than SL\n",
    "        2. And as TP if MTM > TP\n",
    "        3. Check for cointegration break as well\n",
    "\n",
    "where: SL = Stop Loss, TP = Take Profit, CB = Co-integration Break\n"
   ]
  },
  {
   "cell_type": "code",
   "execution_count": 10,
   "metadata": {},
   "outputs": [],
   "source": [
    "def status_update_function(prev_status, mtm, SL, TP, signal, adftest):\n",
    "    \"\"\"\n",
    "    This function takes as inputs a string representing the prev_status, another \n",
    "    string that represent the current trading signal, three floating points for mtm, SL, TP \n",
    "    and a string that represents the result of the adftest. The function return the current \n",
    "    status of the trading strategy based on the rules that trigger our SL, TP or co-integration\n",
    "    break status. \n",
    "    \"\"\"\n",
    "    \n",
    "    # if our previous status is blank, SL, TP, and CB, the our status is the same our signal\n",
    "    if prev_status in [\"\", \"SL\", \"TP\", \"CB\"]:\n",
    "        status = signal        \n",
    "    else:\n",
    "        if adftest == \"No\": # the pair is no longer co-integrated\n",
    "            status  = \"CB\" # set the status as co-integration break \n",
    "        else: # else the pairs are co-integrated\n",
    "            if mtm == \"\": # we don't have signals yet so set the status as empty\n",
    "                status = \"\"\n",
    "            else:\n",
    "                if mtm < SL: # the stop loss is triggered\n",
    "                    status = \"SL\"\n",
    "                else:  \n",
    "                    if mtm > TP: # the take profit is triggered\n",
    "                        status = \"TP\"\n",
    "                    else: # we keep the previus status\n",
    "                        status = prev_status \n",
    "                        \n",
    "                        \n",
    "    return status"
   ]
  },
  {
   "cell_type": "markdown",
   "metadata": {},
   "source": [
    "### Define the Buy price function\n",
    "In the case:\n",
    "1. We have a BUY signal, the buy price is the close price of the FIRST security.\n",
    "2. We have a SELL signal, the buy price is the close price of the SECOND security."
   ]
  },
  {
   "cell_type": "code",
   "execution_count": 11,
   "metadata": {},
   "outputs": [],
   "source": [
    "def buy_price_function( prev_status, prev_buy_price, buy_price, signal, status, data1, data2, end): \n",
    "    \"\"\"\n",
    "    This function takes the previous status, previous buy price, buy price, and the signal status\n",
    "    to determine the buy price of the spread. Since the buy price of the spread will come from the\n",
    "    two dataframes, we also have the dataframes data1 and data2 with and end index  \n",
    "    to determine the buy price. It returns the buy price of the spread.\n",
    "    \"\"\"\n",
    "    if status == prev_status: # we keep the same buy price as before\n",
    "        buy_price = prev_buy_price \n",
    "    else:\n",
    "        \n",
    "        if status in [\"\", \"SL\", \"TP\", \"CB\"]: # if this is true then we set it blank \n",
    "                                          # since we are looking to exit a trade or have not take any position yet.\n",
    "            buy_price= \"\"\n",
    "            \n",
    "        else:\n",
    "            if signal == \"Buy\": # the signal says to buy the spread \n",
    "                               # then the buy price == close price of the first security(Aluminium)\n",
    "                buy_price = data1['Close'][end]\n",
    "            else: \n",
    "                if signal == \"Sell\":  # the signal says to sell the spread\n",
    "                                      # the the buy price == close price of the second security (Lead)\n",
    "                    buy_price = data2['Close'][end] \n",
    "                else:\n",
    "                    buy_price = \"\"  # no signal hence no buy price\n",
    "                    \n",
    "                    \n",
    "    return buy_price"
   ]
  },
  {
   "cell_type": "markdown",
   "metadata": {},
   "source": [
    "### Define the Sell price function\n",
    "The sell price function performs the opposite of the buy function.\n",
    "In the case: \n",
    "\n",
    "    1. For a BUY signal on the spread, the SELL PRICE is the close price of the SECOND security. \n",
    "    2. For a SELL signal on the spread, the SELL PRICE is the close of the first security. "
   ]
  },
  {
   "cell_type": "code",
   "execution_count": 12,
   "metadata": {},
   "outputs": [],
   "source": [
    "def sell_price_function(prev_status, prev_sell_price, sell_price,signal, status, data1, data2, end):\n",
    "    \"\"\"\n",
    "    This function takes the previous status, previous sell price, sell price, and the signal status\n",
    "    to determine the sell price of the spread. Since the sell price of the spread will come from the\n",
    "    two dataframes, we also have the dataframes data1 and data2 with and end index  \n",
    "    to determine the sell price. It returns the sell price of the spread.\n",
    "    \"\"\"\n",
    "    \n",
    "    if status == prev_status: # we keep the same sell price as before\n",
    "        sell_price = prev_sell_price \n",
    "    else: \n",
    "        if status in [\"\", \"SL\", \"TP\", \"CB\"]:  # if this is true then we set it blank \n",
    "                                          # since we are looking to exit a trade or have not take any position yet.\n",
    "            sell_price = \"\"\n",
    "        else:\n",
    "            if signal == \"Buy\":  # Signal is to buy the spread, \n",
    "                                # then the sell price == the close price of the second security\n",
    "                sell_price = data2['Close'][end] \n",
    "            else:\n",
    "                if signal == \"Sell\": # Signal is to sell the spread,\n",
    "                                     # then the sell price == the close price of the first security\n",
    "                    sell_price = data1['Close'][end]\n",
    "                else:\n",
    "                    sell_price = \"\" # no signal hence no sell price\n",
    "            \n",
    "    return sell_price"
   ]
  },
  {
   "cell_type": "markdown",
   "metadata": {},
   "source": [
    "### Define the MTM calculation function using lot sizes\n",
    "We know that MTM stands for mark to market. In this case, MTM is the fair value of the portfolio based on the realized market price of its constituents. We will only calculate the mtm if the previous status is Buy or Sell. The MTM is calculated by closing the positions with the current prices of the commodity pair. \n",
    "\n",
    "When we have a buy status, we have the opening positions of:\n",
    " * Long aluminium \n",
    " * and Short lead.\n",
    "\n",
    "To calculate the mtm, we need to close those positions. \n",
    "Hence, \n",
    "* close the short lead position by\n",
    "  mtm_m == the mtm of lead == (previous sell price of Lead - current sell price of Lead)* lot size of Lead\n",
    "* close the long alumimiun by\n",
    "  mtm_n == the mtm of Aluminimium == (current buy price of Aluminium - previous buy price of Aluminium)*Lot size\n",
    "        \n",
    "When we have a sell status, we have the opening positions of:\n",
    " * Short aluminium \n",
    " * and Long lead.\n",
    "\n",
    "To calculate the mtm, we need to close those positions. \n",
    "Hence, \n",
    "* close the short aluminium position by\n",
    "  mtm_n == the mtm of Aluminium = (previous sell price of Aluminiumm -current sell price of Aluminium)*lot size of Aluminium\n",
    "* close the long lead position by \n",
    "   mtm_m == the mtm of Lead = (current buy price of Lead - previous buy price of Lead)* Lot size of Lead   \n",
    "   \n",
    "We used:\n",
    "\n",
    "        M=5000 : lot size for data1\n",
    "        N=5000 : lot size for data2"
   ]
  },
  {
   "cell_type": "code",
   "execution_count": 13,
   "metadata": {},
   "outputs": [],
   "source": [
    "def mtm_calculate_function(data1, data2, prev_status, prev_sell_price, prev_buy_price, M, N, end):\n",
    "    \"\"\"\n",
    "    The function takes as input two dataframes data1 and data2 (which contains the data from the pair commodity), \n",
    "    3 floating points prev_status, prev_sell_price, prev_buy_price, \n",
    "    and 3 integers M, N which represents the lot size of the two commodities and end which is an index number.\n",
    "    This function return the mark to market value. \n",
    "    \"\"\"\n",
    "    \n",
    "    # We start by checking the previous status \n",
    "    # if it is buy or sell then we calculate the mtm. If not the case we leave it blank.\n",
    "    if prev_status == \"Buy\":\n",
    "        # when we have a buy status, we have the opening positions of Long \n",
    "        # aluminium and short lead. To calculate the mtm, we need to close those positions\n",
    "        \n",
    "            # close the short lead position by\n",
    "            #  mtm_m == the mtm of lead =  (previous sell price of Lead - current sell price of Lead)* lot size of Lead\n",
    "        mtm_m = (prev_sell_price - data2['Close'][end])*M   \n",
    "        \n",
    "            # close the long alumimiun by\n",
    "            # mtm_n == the mtm of Aluminimium = (current buy price of Aluminium - previous buy price of Aluminium)*Lot size\n",
    "        mtm_n = (data1['Close'][end] - prev_buy_price)*N # close the long aluminium position\n",
    "        \n",
    "        # add the two separated mtm\n",
    "        mtm = mtm_m + mtm_n \n",
    "        \n",
    "        return mtm\n",
    "    else:\n",
    "        if prev_status == \"Sell\":\n",
    "            # when we have a sell status, we have the opening positions of short aluminium and long lead.\n",
    "            # To calculate the mtm, we need to close those positions.\n",
    "            \n",
    "            # close the short aluminium position by\n",
    "            # mtm_n == the mtm of Aluminium = (previous sell price of Aluminiumm -current sell price of Aluminium)*lot size\n",
    "            mtm_n = (prev_sell_price - data1['Close'][end])*N  \n",
    "            \n",
    "            # close the long lead position by \n",
    "            # mtm_m == the mtm of Lead = (current buy price of Lead - previous buy price of Lead)* Lot size of Lead\n",
    "            mtm_m = ( data2['Close'][end] - prev_buy_price)*M\n",
    "            \n",
    "            # add the two separated mtm\n",
    "            mtm = mtm_n + mtm_m\n",
    "            return  mtm        \n",
    "        else:\n",
    "            mtm = \"\"\n",
    "    \n",
    "    return mtm"
   ]
  },
  {
   "cell_type": "markdown",
   "metadata": {},
   "source": [
    "## Implementing the trading strategy\n",
    "\n",
    "1. Start from a look-back period of 90 days\n",
    "2. Check for cointegration\n",
    "3. Calculate z-score for the spread\n",
    "4. Generate the signals\n",
    "5. Calculate MTM for the day if applicable\n",
    "6. Calculate Status, buy price and sell price\n",
    "7. Calculate PnL\n",
    "\n",
    "Save the dataframe as CSV file for debugging purposes\n"
   ]
  },
  {
   "cell_type": "code",
   "execution_count": 14,
   "metadata": {},
   "outputs": [],
   "source": [
    "def implement_pairs_trading_strategy(data1, data2, threshold, start, end, \n",
    "                                    prev_status, mtm, prev_sell_price, sell_price, \n",
    "                                    prev_buy_price, buy_price, SL, TP, M,N):\n",
    "    \"\"\"\n",
    "    This function will implement the pairs trading strategy and store the data in \n",
    "    a csv file.\n",
    "    \"\"\"\n",
    "    \n",
    "    pnl = 0 \n",
    "    i = 0 \n",
    "    \n",
    "    \n",
    "    for row in data1[90:].iterrows():\n",
    "        \n",
    "        # Run the Adf test for each day, starting at day 91 \n",
    "        d1 = data1[i:90+i]\n",
    "        d2 = data2[i:90+i]\n",
    "        \n",
    "        coint_test = cointegration_test(d1,d2)     \n",
    "        \n",
    "        # 2) Check for cointegration\n",
    "        if coint_test[0] <= coint_test[4]['10%'] and coint_test[1] <= 0.1: \n",
    "            adftest = \"Yes\"\n",
    "        else:\n",
    "            adftest = \"No\"\n",
    "            \n",
    "            \n",
    "        # 3) Calculating the z-score \n",
    "        zscore = z_score_function(data1,data2, start,end) \n",
    "        \n",
    "        \n",
    "        # 4) Generating trading signal \n",
    "        signal = generate_signals(zscore, threshold, adftest) \n",
    "        \n",
    "        # 5) Calculate the MTM if applicable \n",
    "        mtm = mtm_calculate_function(data1, data2, prev_status, prev_sell_price,\n",
    "                            prev_buy_price, M, N, end)\n",
    "        \n",
    "        # 6.1) Calculate the Status \n",
    "        status = status_update_function(prev_status, mtm,SL, TP,signal, adftest)\n",
    "        \n",
    "        # 6.2) Calculate the buy price\n",
    "        buy_price = buy_price_function( prev_status, prev_buy_price, buy_price, \n",
    "                                       signal, status, data1,data2, end)\n",
    "        \n",
    "        # 6.3) Calculate the sell price \n",
    "        sell_price = sell_price_function( prev_status, prev_sell_price, sell_price,\n",
    "                                         signal, status, data1, data2, end) \n",
    "        \n",
    "        # 7) Calculate the PNL \n",
    "        pnl = (pnl + mtm) if status in ['SL', 'TP', 'CB'] else pnl\n",
    "        \n",
    "        \n",
    "        # Assigning the previous values\n",
    "        prev_status = status\n",
    "        prev_sell_price = sell_price \n",
    "        prev_buy_price = buy_price \n",
    "        \n",
    "        \n",
    "        # Append the value to the array data\n",
    "        data.append( [    str( data1.index[end] )[:10] , data1['Close'][end],\n",
    "                          data2['Close'][end], zscore, signal, status, buy_price,\n",
    "                          sell_price, mtm, pnl, adftest\n",
    "                     ]\n",
    "                   )\n",
    "        # Increment the iterator variables to consider the next set of data.\n",
    "        end += 1 \n",
    "        start += 1\n",
    "        i += 1\n",
    "        \n",
    "        \n",
    "    # Save it to a csv for debugging and record purposes \n",
    "    pyexcel.save_as( \n",
    "       array = data, dest_file_name = \"pair_strategy_record.csv\" )"
   ]
  },
  {
   "cell_type": "markdown",
   "metadata": {},
   "source": [
    "## Initialize variables"
   ]
  },
  {
   "cell_type": "code",
   "execution_count": 15,
   "metadata": {},
   "outputs": [],
   "source": [
    "data = []\n",
    "headers = ['Date', 'commodity1', 'commodity2', 'zscore', 'signal', 'status',\n",
    "           'buy price', 'sell price', 'mtm', 'pnl', 'Cointegration test']\n",
    "\n",
    "data.append(headers)\n",
    "threshold = 1.75    # Tolerance for the stdev above and below the mean\n",
    "start = 80\n",
    "end = 90\n",
    "prev_status = \"\"\n",
    "mtm = \"\"\n",
    "prev_sell_price = \"\"\n",
    "sell_price = \"\"\n",
    "prev_buy_price = \"\"\n",
    "buy_price = \"\"\n",
    "SL = -10000      # Stop loss\n",
    "TP = 20000       # Take profit\n",
    "N = 5000           # Lot size for data1\n",
    "M = 5000           # Lot size for data2"
   ]
  },
  {
   "cell_type": "markdown",
   "metadata": {},
   "source": [
    "## Implement the strategy"
   ]
  },
  {
   "cell_type": "code",
   "execution_count": 16,
   "metadata": {},
   "outputs": [],
   "source": [
    "implement_pairs_trading_strategy(aluminium_prices,lead_prices,threshold,start,end,prev_status,mtm,prev_sell_price,\\\n",
    "             sell_price,prev_buy_price,buy_price,SL,TP,M,N) \n"
   ]
  },
  {
   "cell_type": "markdown",
   "metadata": {},
   "source": [
    "## Backtesting the strategy and plotting the cumulative PNL "
   ]
  },
  {
   "cell_type": "markdown",
   "metadata": {},
   "source": [
    "#### Plotting the cumulative PNL"
   ]
  },
  {
   "cell_type": "code",
   "execution_count": 17,
   "metadata": {},
   "outputs": [
    {
     "data": {
      "image/png": "[encoded data removed]",
      "text/plain": [
       "<Figure size 720x504 with 1 Axes>"
      ]
     },
     "metadata": {
      "needs_background": "light"
     },
     "output_type": "display_data"
    }
   ],
   "source": [
    "result = pd.DataFrame(data, columns=headers)[1:] # Ignore the first row\n",
    "result.set_index('Date',inplace=True)  # Set Date column as index for better plotting\n",
    "result.index = pd.to_datetime(result.index) # Convert index to a datetime index\n",
    "\n",
    "result.pnl.plot(figsize=(10,7), label ='PnL') \n",
    "plt.legend() \n",
    "plt.xlabel('Date', fontsize=12)\n",
    "plt.ylabel('PnL', fontsize=12)\n",
    "plt.title('PnL', fontsize=14)\n",
    "plt.grid() \n",
    "plt.show()"
   ]
  },
  {
   "cell_type": "markdown",
   "metadata": {},
   "source": [
    "#### Calculate the strategy profitability metrics \n",
    "Calculate the positive trades, negative trades, total trades, hit_ratio, sharpe_ratio of the trading strategy. "
   ]
  },
  {
   "cell_type": "code",
   "execution_count": 18,
   "metadata": {},
   "outputs": [],
   "source": [
    "result['MTM'] = np.where( result['mtm'] != \"\", result['mtm'], 0 )\n",
    "result['Positive Trade'] = np.where( result['MTM'] > 0, 1, 0 )\n",
    "result['Negative Trade'] = np.where( result['MTM'] < 0, 1, 0 )\n",
    "\n",
    "positive_trades = result['Positive Trade'].sum()\n",
    "negative_trades = result['Negative Trade'].sum()\n",
    "total_trades = positive_trades + negative_trades\n",
    "\n",
    "hit_ratio = positive_trades/total_trades \n",
    "\n",
    "result['Hit_Ratio'] = hit_ratio\n",
    "\n",
    "result['Sharpe_Ratio'] = result['MTM'].mean()/result['MTM'].std()*252**0.5\n",
    "\n",
    "sharpe_ratio = result['Sharpe_Ratio'].iloc[-1]\n",
    "\n",
    "pnl = result['pnl'].iloc[-1]"
   ]
  },
  {
   "cell_type": "code",
   "execution_count": 19,
   "metadata": {},
   "outputs": [
    {
     "name": "stdout",
     "output_type": "stream",
     "text": [
      "\t\t    Summary\n",
      "_____________________________________________\n",
      "| Trading Parameters        |      Value |\n",
      "|---------------------------+------------|\n",
      "| Number of Trades          |    94      |\n",
      "| Number of Positive Trades |    47      |\n",
      "| Number of Negative Trades |    47      |\n",
      "| Hit Ratio                 |     0.5    |\n",
      "| Sharpe Ratio              |     1.5497 |\n",
      "| Total PNL                 | 77000      |\n"
     ]
    }
   ],
   "source": [
    "# Store the Summary result in a nested list\n",
    "Summary = [ [\"Number of Trades\", total_trades] , \n",
    "            [\"Number of Positive Trades\", positive_trades] , \n",
    "            [\"Number of Negative Trades\", negative_trades], \n",
    "            [\"Hit Ratio\", round( hit_ratio,4 ) ] , \n",
    "            [\"Sharpe Ratio\", round( sharpe_ratio,4) ],\n",
    "            [\"Total PNL\", pnl ]\n",
    "          ]\n",
    "\n",
    "# Print the results in a nice table\n",
    "print(\"\\t\\t    Summary\")\n",
    "print(\"_____________________________________________\")\n",
    "print(tabulate(Summary ,\n",
    "        headers=['Trading Parameters','Value'],tablefmt='orgtbl'))"
   ]
  },
  {
   "cell_type": "markdown",
   "metadata": {},
   "source": [
    "## Conclusion"
   ]
  },
  {
   "cell_type": "markdown",
   "metadata": {},
   "source": [
    "* The performance for this trading strategy was acceptable. \n",
    "* The cumulative PNL was 77000 INR without taking in considarition transaction costs and other fees. \n",
    "* We did in total 94 trades in which 47 were positives and 47 were negatives.\n",
    "* Hence, the hit ratio was 0.5. \n",
    "* The Sharpe ratio was 1.5497 which is greater than one. Any sharpe ratio greater than one is considerated as acceptable since sharpe ratio represents the return we are generating for each unit of risk taken. "
   ]
  },
  {
   "cell_type": "code",
   "execution_count": null,
   "metadata": {},
   "outputs": [],
   "source": []
  }
 ],
 "metadata": {
  "kernelspec": {
   "display_name": "Python 3",
   "language": "python",
   "name": "python3"
  },
  "language_info": {
   "codemirror_mode": {
    "name": "ipython",
    "version": 3
   },
   "file_extension": ".py",
   "mimetype": "text/x-python",
   "name": "python",
   "nbconvert_exporter": "python",
   "pygments_lexer": "ipython3",
   "version": "3.7.6"
  }
 },
 "nbformat": 4,
 "nbformat_minor": 4
}
